{
 "cells": [
  {
   "cell_type": "code",
   "execution_count": null,
   "id": "6585f968-fb84-4931-8b8c-0e8e972af36d",
   "metadata": {},
   "outputs": [],
   "source": [
    "from nfstream import NFStreamer"
   ]
  },
  {
   "cell_type": "code",
   "execution_count": null,
   "id": "f55f709e-2f2e-473a-ac0b-56ff6ebfe6fd",
   "metadata": {},
   "outputs": [],
   "source": [
    "offline_streamer = NFStreamer(source=\"data/dos_1.pcap\", statistical_analysis=True, splt_analysis=10)\n",
    "df = offline_streamer.to_pandas()\n",
    "# "
   ]
  },
  {
   "cell_type": "code",
   "execution_count": null,
   "id": "b8c64a67-d02e-45d2-98b6-048fd851b64b",
   "metadata": {},
   "outputs": [],
   "source": [
    "df.head()"
   ]
  },
  {
   "cell_type": "code",
   "execution_count": null,
   "id": "4c0cff97-6e57-4f5a-abea-66b06580a58f",
   "metadata": {},
   "outputs": [],
   "source": [
    "df.columns"
   ]
  },
  {
   "cell_type": "code",
   "execution_count": null,
   "id": "1779d09a-6b70-4eae-a6c7-7360b1d4053c",
   "metadata": {},
   "outputs": [],
   "source": [
    "total_flows = offline_streamer.to_csv()"
   ]
  },
  {
   "cell_type": "code",
   "execution_count": null,
   "id": "e5ccbbce-f270-4e47-bc51-cd074a4b6b90",
   "metadata": {},
   "outputs": [],
   "source": []
  },
  {
   "cell_type": "code",
   "execution_count": null,
   "id": "9580b645-728d-4002-bba3-c5638f633ad6",
   "metadata": {},
   "outputs": [],
   "source": []
  }
 ],
 "metadata": {
  "kernelspec": {
   "display_name": "Python 3 (ipykernel)",
   "language": "python",
   "name": "python3"
  },
  "language_info": {
   "codemirror_mode": {
    "name": "ipython",
    "version": 3
   },
   "file_extension": ".py",
   "mimetype": "text/x-python",
   "name": "python",
   "nbconvert_exporter": "python",
   "pygments_lexer": "ipython3",
   "version": "3.8.10"
  }
 },
 "nbformat": 4,
 "nbformat_minor": 5
}
